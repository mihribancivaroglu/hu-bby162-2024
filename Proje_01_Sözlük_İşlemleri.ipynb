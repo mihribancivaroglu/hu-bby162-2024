{
  "nbformat": 4,
  "nbformat_minor": 0,
  "metadata": {
    "colab": {
      "provenance": [],
      "authorship_tag": "ABX9TyOCGQyOlTc9YIF/WPnAEmHO",
      "include_colab_link": true
    },
    "kernelspec": {
      "name": "python3",
      "display_name": "Python 3"
    },
    "language_info": {
      "name": "python"
    }
  },
  "cells": [
    {
      "cell_type": "markdown",
      "metadata": {
        "id": "view-in-github",
        "colab_type": "text"
      },
      "source": [
        "<a href=\"https://colab.research.google.com/github/mihribancivaroglu/hu-bby162-2024/blob/main/Proje_01_S%C3%B6zl%C3%BCk_%C4%B0%C5%9Flemleri.ipynb\" target=\"_parent\"><img src=\"https://colab.research.google.com/assets/colab-badge.svg\" alt=\"Open In Colab\"/></a>"
      ]
    },
    {
      "cell_type": "code",
      "execution_count": null,
      "metadata": {
        "colab": {
          "base_uri": "https://localhost:8080/"
        },
        "id": "z30LDE-y4NNh",
        "outputId": "c3305b75-001a-4a4e-e2cc-ead3f0cf1610"
      },
      "outputs": [
        {
          "metadata": {
            "tags": null
          },
          "name": "stdout",
          "output_type": "stream",
          "text": [
            "{'maymun': 'monkey', 'ayı': 'bear', 'kedi': 'cat', 'kuş': 'bird', 'köpek': 'dog', 'kurt': 'wolf', 'at': 'horse', 'eşek': 'donkey', 'kuzgun': 'raven', 'yılan': 'snakee'}\n",
            "Değiştirilecek kelime: snakee\n",
            "Değiştirme başarılı.\n",
            "{'maymun': 'monkey', 'ayı': 'bear', 'kedi': 'cat', 'kuş': 'bird', 'köpek': 'dog', 'kurt': 'wolf', 'at': 'horse', 'eşek': 'donkey', 'kuzgun': 'raven', 'yılan': 'snake'}\n",
            "{'maymun': 'monkey', 'ayı': 'bear', 'kedi': 'cat', 'kuş': 'bird', 'köpek': 'dog', 'kurt': 'wolf', 'at': 'horse', 'eşek': 'donkey', 'kuzgun': 'raven', 'yılan': 'snake'}\n"
          ]
        }
      ],
      "source": [
        "sozluk = {\"maymun\": \"monkey\",\n",
        "          \"ayı\": \"bear\",\n",
        "          \"kedi\": \"cat\",\n",
        "          \"kuş\": \"bird\",\n",
        "          \"köpek\": \"dog\",\n",
        "          \"kurt\": \"wolf\",\n",
        "          \"at\": \"horse\",\n",
        "          \"eşek\": \"donkey\",\n",
        "          \"kuzgun\": \"raven\",\n",
        "          \"yılan\":\"snakee\"}\n",
        "\n",
        "#sözlükten bir kelimenin değerini değiştirme (yılanın anlamı yanlış yazılmış, onu düzeltin!)\n",
        "\n",
        "print(sozluk)\n",
        "degistir = (input(\"Sözlükteki kelimenin anlamını değiştiriniz: \"))\n",
        "print(\"Değiştirilecek kelime: \" + sozluk[degistir])\n",
        "degistirdik = (input(\"Kelimenin yeni anlamını giriniz: \"))\n",
        "sozluk[degistir] = degistirdik\n",
        "print(\"Değiştirme başarılı.\")\n",
        "print(sozluk)\n",
        "\n",
        "#sözlüğe yeni kelime ekleme (sözlüğe kaplumbağa ve ing anlamını ekleyiniz!)\n",
        "\n",
        "print(sozluk)\n",
        "yeniKelime = (input(\"Sözlüğe yeni bir kelime ekleyin: \"))\n",
        "yeniDeger = (input(\"Eklediğiniz kelimenin ingilizce karşılığını giriniz: \"))\n",
        "print(\"Ekleme işlemi başarılı. \")\n",
        "sozluk[yeniKelime] = yeniDeger\n",
        "print(sozluk)\n",
        "\n",
        "#sözlükten bir kelimeyi silme\n",
        "\n",
        "print(sozluk)\n",
        "silinen = (input(\"Sözlükten bir kelimeyi siliniz: \"))\n",
        "del sozluk [silinen]\n",
        "print(\"Silme işlemi başarılı.\")\n",
        "print(sozluk)\n",
        "\n",
        "#Sözlükte arama yapma\n",
        "\n",
        "print(sozluk)\n",
        "arananKelime = (input(\"Sözlükte arama yapınız.\"))\n",
        "\n",
        "if arananKelime in sozluk:\n",
        "    print(\"Kelime sözlükte bulunuyor: \" + sozluk[arananKelime])\n",
        "\n",
        "\n",
        "\n",
        "\n",
        "\n",
        "\n",
        "\n",
        "\n",
        "\n",
        "\n",
        "\n",
        "\n",
        "\n",
        "\n"
      ]
    },
    {
      "cell_type": "code",
      "source": [],
      "metadata": {
        "id": "YiZzuo_A4S74"
      },
      "execution_count": null,
      "outputs": []
    }
  ]
}