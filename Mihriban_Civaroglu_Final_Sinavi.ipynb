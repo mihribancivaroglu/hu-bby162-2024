{
  "nbformat": 4,
  "nbformat_minor": 0,
  "metadata": {
    "colab": {
      "provenance": [],
      "include_colab_link": true
    },
    "kernelspec": {
      "name": "python3",
      "display_name": "Python 3"
    },
    "language_info": {
      "name": "python"
    }
  },
  "cells": [
    {
      "cell_type": "markdown",
      "metadata": {
        "id": "view-in-github",
        "colab_type": "text"
      },
      "source": [
        "<a href=\"https://colab.research.google.com/github/mihribancivaroglu/hu-bby162-2024/blob/main/Mihriban_Civaroglu_Final_Sinavi.ipynb\" target=\"_parent\"><img src=\"https://colab.research.google.com/assets/colab-badge.svg\" alt=\"Open In Colab\"/></a>"
      ]
    },
    {
      "cell_type": "markdown",
      "source": [
        "**Final Sınavına hoşgeldiniz!**"
      ],
      "metadata": {
        "id": "ItmuxWgBbkC1"
      }
    },
    {
      "cell_type": "markdown",
      "source": [
        "Canlı final sınavı, bilgisayar laboratuvarında bilgisayar başında yapılan ve teslim edilen sınavı ifade etmektedir. Canlı final sınavında yazmış olduğunuz kodlar sizin sorumluluğunuzdadır ve gerekirse hangi kodu neden yazdığınızı açık bir şekilde anlatabilmeniz gerekmektedir. Canlı final sınavı sırasında İnternet üzerindeki kaynaklar kullanılabilir ancak başka bir kişiden destek alınamaz.\n",
        "\n",
        "Canlı final sınavının teslim şekli önceki sınav ve projelerin teslim şekli ile aynıdır. \"Final Sınavı\" adlı Colab not defterinin bir kopyasını çıkarmalı, size ait olan bu kopya üzerinde soruları cevaplamalı, GitHub'daki ders deponuza size ait kopyayı yüklemeli ve not defterinin adresini metin alanına yazarak göndermelisiniz.\n",
        "\n",
        "Canlı final sınavının doğru şekilde tamamlanması da sınavın önemli bir parçasıdır. Sınav için gönderdiğiniz adresi kontrol ediniz ve doğru dosyayı depoya yerleştirdiği bizden emin olunuz. Teslim sürecinde yapılan hatalar sınavdan 0 puan almanıza yol açabilir!\n",
        "\n",
        "**Sınav süresi 60 dakikadır!**\n",
        "\n",
        "Önemli Not: Soruları cecaplarken sadece şu ana kadar öğrendiğiniz kod yapılarını kullanmanız gerekmektedir!!!"
      ],
      "metadata": {
        "id": "KGjdjR5RbTgH"
      }
    },
    {
      "cell_type": "markdown",
      "source": [
        "**----- Sorular -----**"
      ],
      "metadata": {
        "id": "zBvdh4s8cOqM"
      }
    },
    {
      "cell_type": "markdown",
      "source": [
        "**Soru 1:** Kod bölümünde yer alan listeyi ekrana aşağıda gösterildiği şekilde \"for\" döngüsü kullanarak yazdırın. Her kelimenin başındaki numara otomatik olarak verilmelidir. (5 Puan)\n",
        "\n",
        "1.   Açık Erişim\n",
        "2.   Açık Bilim\n",
        "3.   Açık Veri\n",
        "4.   Açık Eğitim\n",
        "5.   Açık Kültür"
      ],
      "metadata": {
        "id": "ma0FVqgQiLBe"
      }
    },
    {
      "cell_type": "code",
      "source": [
        "#Soru 1 bu bölümde kodlanmalıdır\n",
        "acikListe = [\"Açık Erişim\", \"Açık Bilim\", \"Açık Veri\", \"Açık Eğitim\", \"Açık Kültür\"]\n",
        "\n",
        "for liste in acikListe:\n",
        " print(liste\n",
        "      )\n",
        "for i, liste in enumerate(acikListe, 1):\n",
        "  print(str(i) + \"-\" + liste)\n"
      ],
      "metadata": {
        "id": "Fj7wkLMcjp_7",
        "outputId": "503e4e9b-8bd1-4d00-91a1-a7ce2f841dad",
        "colab": {
          "base_uri": "https://localhost:8080/"
        }
      },
      "execution_count": null,
      "outputs": [
        {
          "output_type": "stream",
          "name": "stdout",
          "text": [
            "Açık Erişim\n",
            "Açık Bilim\n",
            "Açık Veri\n",
            "Açık Eğitim\n",
            "Açık Kültür\n",
            "1-Açık Erişim\n",
            "2-Açık Bilim\n",
            "3-Açık Veri\n",
            "4-Açık Eğitim\n",
            "5-Açık Kültür\n"
          ]
        }
      ]
    },
    {
      "cell_type": "markdown",
      "source": [
        "**Soru 2:** Kod bölümünde yer alan boş sözlüğe klavyeden yeni veri ekleyecek kodu yazınız. Yeni veri hem anahtarı (key) hem de anahtara karşılık gelecek değerli (value) içermelidir. Veri girişi yapıldıktan sonra sözlüğün güncel hali de ekrana yazıdırılmalıdır. (5 Puan)"
      ],
      "metadata": {
        "id": "uZDiXJARgK4o"
      }
    },
    {
      "cell_type": "code",
      "source": [
        "from re import A\n",
        "#Soru 2 bu bölümde kodlanmalıdır\n",
        "sozluk = {}\n",
        "\n",
        "while True:\n",
        "    gir = input(\"Sözlüğe eklemek için bir anahtar giriniz. Sözlüğü tamamladığınızda 'x' tuşuna basınız: \")\n",
        "    if gir == 'x':\n",
        "        break\n",
        "    deger = input(\"Anahtarın karşılığında bulunacak değeri giriniz: \")\n",
        "    sozluk[gir] = deger\n",
        "    print(\"Sözlük güncellendi:\", sozluk)\n",
        "\n",
        "\n"
      ],
      "metadata": {
        "id": "no7Zd1ZCh5U3",
        "outputId": "99c8ff74-2c0e-4f6e-b263-949b23b8cbf8",
        "colab": {
          "base_uri": "https://localhost:8080/"
        }
      },
      "execution_count": 13,
      "outputs": [
        {
          "name": "stdout",
          "output_type": "stream",
          "text": [
            "Sözlüğe eklemek için bir anahtar giriniz. Sözlüğü tamamladığınızda 'x' tuşuna basınız: anne\n",
            "Anahtarın karşılığında bulunacak değeri giriniz: doğurur\n",
            "Sözlük güncellendi: {'anne': 'doğurur'}\n",
            "Sözlüğe eklemek için bir anahtar giriniz. Sözlüğü tamamladığınızda 'x' tuşuna basınız: x\n"
          ]
        }
      ]
    },
    {
      "cell_type": "markdown",
      "source": [
        "**Soru 3:** Herhangi bir metin dosyasında (ör: [veri.txt](https://drive.google.com/file/d/1WVCEET3G3ishvIR-V6lCav7jBgaZLT-o/view?usp=sharing)) satır satır yer alan verileri okuyup ekrana satır satır yazdıracak kodu yazınız. (10 Puan)"
      ],
      "metadata": {
        "id": "HnIqbjcCeNEV"
      }
    },
    {
      "cell_type": "code",
      "source": [
        "#Soru 3 bu bölümde kodlanmalıdır\n",
        "\n",
        "f = \"veri.txt\"\n",
        "dosya = open (f,\"w\")\n",
        "\n",
        "dosya.write(\"Merhaba. Ben Mihriban.\")\n",
        "dosya.write(\"Bu benim final sınavımdır.\")\n",
        "dosya.write(\"Mezun oluyorum.\")\n",
        "dosya.write(\"Yupiiiiğ!\")\n",
        "\n",
        "dosya.close()\n",
        "\n",
        "dosya = open(f, \"r\")\n",
        "for line in dosya.readlines():\n",
        "    print(line)\n",
        "\n",
        "dosya.close()\n",
        "\n",
        "\n",
        "\n",
        "\n"
      ],
      "metadata": {
        "id": "SjzG5g3ffTyv"
      },
      "execution_count": null,
      "outputs": []
    },
    {
      "cell_type": "markdown",
      "source": [
        "**Soru 4:** Verilerin bir TXT dosyasında depolanabileceği basit bir adres defteri oluşturunuz. Adres defterindeki öğeler Ad-Soyad ve e-Posta olacaktır. Bu adres desteri uygulamasında bir menü yapısı (uygulama içinde fonksiyolar) olmalıdır. 1. seçenek adres defterindeki girişleri göstermeli, 2. seçenek adres defterine yeni veri eklemeli, 3. seçenek ise uygulamayı sonlandırmalıdır. (20 Puan)"
      ],
      "metadata": {
        "id": "p49cZFjJcXoS"
      }
    },
    {
      "cell_type": "code",
      "execution_count": null,
      "metadata": {
        "id": "3whYCDz3a8QZ",
        "colab": {
          "base_uri": "https://localhost:8080/"
        },
        "outputId": "f34af2dd-27e8-4ac6-e475-834f4e51ce97"
      },
      "outputs": [
        {
          "output_type": "stream",
          "name": "stdout",
          "text": [
            "\n",
            "Adres Defteri Uygulaması\n",
            "1. Adres defterini görüntüle.\n",
            "2. Adres defterine yeri veri ekle.\n",
            "3. Adres defterini kapat.\n"
          ]
        }
      ],
      "source": [
        "#Soru 4 bu bölümde kodlanmalıdır\n",
        "\n",
        "\n",
        "def girdileriGoster():\n",
        "    try:\n",
        "        with open(\"adresDefteri.txt\", \"r\") as dosya:\n",
        "            for satir in dosya:\n",
        "                print(satir.strip())\n",
        "    except FileNotFoundError:\n",
        "        print(\"Adres defteri bulunamadı.\")\n",
        "\n",
        "def veriEkle():\n",
        "    adSoyad = input(\"Yeni kişinin adını ve soyadını girin: \")\n",
        "    ePosta = input(\"Yeni kişinin e-posta adresini girin: \")\n",
        "    with open(\"adresDefteri.txt\", \"a\") as dosya:\n",
        "        dosya.write(adSoyad + \": \" + ePosta + \"\\n\")\n",
        "    print(\"Yeni giriş adres defterine eklendi.\")\n",
        "\n",
        "while True:\n",
        "    print(\"\\nAdres Defteri Uygulaması\")\n",
        "    print(\"1. Adres defterini görüntüle.\")\n",
        "    print(\"2. Adres defterine yeri veri ekle.\")\n",
        "    print(\"3. Adres defterini kapat.\")\n",
        "    secim = input(\"Lütfen bir seçenek seçin: \")\n",
        "\n",
        "    if secim == \"1\":\n",
        "        girdileriGoster()\n",
        "    elif secim == \"2\":\n",
        "        veriEkle()\n",
        "    elif secim == \"3\":\n",
        "        print(\"Uygulamadan çıkılıyor...\")\n",
        "        break\n",
        "    else:\n",
        "        print(\"Geçersiz seçenek! Lütfen tekrar deneyin.\")\n"
      ]
    }
  ]
}