
import random
def sayi_tahmin_oyunu():
    # Bilgisayar 1 ile 100 arasında rastgele bir sayı seçer
    dogru_sayi = random.randint(1, 100)
    tahmin = None
    tahmin_sayisi = 0

    print("Sayı Tahmin Oyununa Hoşgeldiniz!")
    print("1 ile 100 arasında bir sayı tuttum. Bakalım tahmin edebilecek misin?")

    # Oyuncu doğru sayıyı bulana kadar döngü devam eder
    while tahmin != dogru_sayi:
        tahmin = int(input("Tahmininizi girin: "))
        tahmin_sayisi += 1
        
        if tahmin < dogru_sayi:
            print("Daha yüksek bir sayı girin.")
        elif tahmin > dogru_sayi:
            print("Daha düşük bir sayı girin.")
        else:
            print("Tebrikler!" + str(dogru_sayi) + "sayısını" + str(tahmin_sayisi) + " denemede doğru tahmin ettiniz.")

# Oyunu başlat
sayi_tahmin_oyunu()
