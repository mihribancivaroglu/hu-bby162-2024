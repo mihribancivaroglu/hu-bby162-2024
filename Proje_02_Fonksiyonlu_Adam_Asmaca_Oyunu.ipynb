{
  "nbformat": 4,
  "nbformat_minor": 0,
  "metadata": {
    "colab": {
      "provenance": [],
      "include_colab_link": true
    },
    "kernelspec": {
      "name": "python3",
      "display_name": "Python 3"
    },
    "language_info": {
      "name": "python"
    }
  },
  "cells": [
    {
      "cell_type": "markdown",
      "metadata": {
        "id": "view-in-github",
        "colab_type": "text"
      },
      "source": [
        "<a href=\"https://colab.research.google.com/github/mihribancivaroglu/hu-bby162-2024/blob/main/Proje_02_Fonksiyonlu_Adam_Asmaca_Oyunu.ipynb\" target=\"_parent\"><img src=\"https://colab.research.google.com/assets/colab-badge.svg\" alt=\"Open In Colab\"/></a>"
      ]
    },
    {
      "cell_type": "code",
      "execution_count": 4,
      "metadata": {
        "id": "e28-C-fmnfDT",
        "colab": {
          "base_uri": "https://localhost:8080/"
        },
        "outputId": "c63e4150-6f0d-4db2-cb0e-a7053bed24e6"
      },
      "outputs": [
        {
          "output_type": "stream",
          "name": "stdout",
          "text": [
            "Adam Asmaca oyununa hoş geldiniz!\n",
            "Lütfen bir zorluk seviyesi seçin (kolay, orta, zor): ZOR\n",
            "_____\n",
            "Bir harf tahmin edin: E\n",
            "Yanlış tahmin. 2 hakkınız kaldı.\n",
            "_____\n",
            "Bir harf tahmin edin: a\n",
            "Tebrikler! Doğru tahmin!\n",
            "____a\n",
            "Bir harf tahmin edin: h\n",
            "Tebrikler! Doğru tahmin!\n",
            "h___a\n",
            "Bir harf tahmin edin: u\n",
            "Tebrikler! Doğru tahmin!\n",
            "hu__a\n",
            "Bir harf tahmin edin: r\n",
            "Tebrikler! Doğru tahmin!\n",
            "hur_a\n",
            "Bir harf tahmin edin: m\n",
            "Tebrikler! Doğru tahmin!\n",
            "hurma\n",
            "Tebrikler! Kazandınız!\n",
            "Tekrar oynamak istiyor musunuz? (evet/hayır): a\n",
            "Oyunu oynadığınız için teşekkür ederiz. İyi günler!\n"
          ]
        }
      ],
      "source": [
        "import random\n",
        "\n",
        "def kelime_al(zorluk):\n",
        "    kelime_listesi = {\n",
        "        \"kolay\": [\"elma\", \"muz\", \"portakal\", \"üzüm\", \"ananas\"],\n",
        "        \"orta\": [\"kivi\", \"çilek\", \"armut\", \"kiraz\", \"şeftali\"],\n",
        "        \"zor\": [\"nar\", \"kayısı\", \"vişne\", \"erik\", \"hurma\"]\n",
        "    }\n",
        "    return random.choice(kelime_listesi[zorluk])\n",
        "\n",
        "def kelime_goster(kelime, tahmin_edilen_harfler):\n",
        "    gosterilen_kelime = ''\n",
        "    for harf in kelime:\n",
        "        if harf in tahmin_edilen_harfler:\n",
        "            gosterilen_kelime += harf\n",
        "        else:\n",
        "            gosterilen_kelime += '_'\n",
        "    return gosterilen_kelime\n",
        "\n",
        "def adam_asmaca():\n",
        "    print(\"Adam Asmaca oyununa hoş geldiniz!\")\n",
        "    while True:\n",
        "        zorluk = input(\"Lütfen bir zorluk seviyesi seçin (kolay, orta, zor): \").lower()\n",
        "        if zorluk in [\"kolay\", \"orta\", \"zor\"]:\n",
        "            break\n",
        "        else:\n",
        "            print(\"Geçersiz bir seçim yaptınız. Lütfen tekrar deneyin.\")\n",
        "\n",
        "    kelime = kelime_al(zorluk)\n",
        "    tahmin_edilen_harfler = []\n",
        "    deneme_hakki = {\"kolay\": 7, \"orta\": 5, \"zor\": 3}\n",
        "\n",
        "    print(kelime_goster(kelime, tahmin_edilen_harfler))\n",
        "\n",
        "    while deneme_hakki[zorluk] > 0:\n",
        "        tahmin = input(\"Bir harf tahmin edin: \").lower()\n",
        "\n",
        "        if tahmin in tahmin_edilen_harfler:\n",
        "            print(\"Bu harfi zaten tahmin ettiniz.\")\n",
        "        elif tahmin in kelime:\n",
        "            tahmin_edilen_harfler.append(tahmin)\n",
        "            print(\"Tebrikler! Doğru tahmin!\")\n",
        "            print(kelime_goster(kelime, tahmin_edilen_harfler))\n",
        "            if '_' not in kelime_goster(kelime, tahmin_edilen_harfler):\n",
        "                print(\"Tebrikler! Kazandınız!\")\n",
        "                break\n",
        "        else:\n",
        "            deneme_hakki[zorluk] -= 1\n",
        "            print(\"Yanlış tahmin. {} hakkınız kaldı.\".format(deneme_hakki[zorluk]))\n",
        "            print(kelime_goster(kelime, tahmin_edilen_harfler))\n",
        "\n",
        "    if '_' in kelime_goster(kelime, tahmin_edilen_harfler):\n",
        "        print(\"Üzgünüm, deneme hakkınız bitti. Kelime '{}' idi.\".format(kelime))\n",
        "\n",
        "    devam = input(\"Tekrar oynamak istiyor musunuz? (evet/hayır): \").lower()\n",
        "    if devam == \"evet\":\n",
        "        adam_asmaca()\n",
        "    else:\n",
        "        print(\"Oyunu oynadığınız için teşekkür ederiz. İyi günler!\")\n",
        "\n",
        "adam_asmaca()\n"
      ]
    }
  ]
}